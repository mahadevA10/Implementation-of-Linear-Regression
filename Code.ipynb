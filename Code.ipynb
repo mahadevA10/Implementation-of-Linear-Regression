def find_b(x, y):
  #find mean of each column
  m_x = np.mean(x)
  m_y = np.mean(y)
  
  p = np.sum((x-m_x)**2)
  q = np.sum((x-m_x)*(y-m_y))
  b1 = p/q
  b0 = m_y - b1*m_x
  return (b0, b1)
def plot_regression_line(x, y, b):
    # plotting the actual points as scatter plot
    plt.scatter(x, y, color = "r",
               marker = "*", s = 30)
  
    # predicted response vector
    y_pred = b[0] + b[1]*x
  
    # plotting the regression line
    plt.plot(x, y_pred, color = "g")
  
    # putting labels
    plt.xlabel('x')
    plt.ylabel('y')
  
    # function to show plot
    plt.show()
